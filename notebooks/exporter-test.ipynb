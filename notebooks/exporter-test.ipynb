{
 "cells": [
  {
   "attachments": {},
   "cell_type": "markdown",
   "metadata": {},
   "source": [
    "## To create a basic Jupyter notebook, follow the steps below:\n",
    "\n",
    "* Open a new Jupyter notebook in your preferred environment.\n",
    "* In the first cell, add a Markdown cell to provide a brief description of the notebook's purpose.\n",
    "* In the second cell, import any necessary libraries or packages using the appropriate import statements.\n",
    "* Add any additional cells as needed for data preparation, analysis, or visualization.\n",
    "* Save your notebook and run it to ensure that all cells execute without errors.\n",
    "* Here's an example of what your notebook could look like:"
   ]
  },
  {
   "cell_type": "code",
   "execution_count": 1,
   "metadata": {},
   "outputs": [
    {
     "name": "stdout",
     "output_type": "stream",
     "text": [
      "This is a test\n"
     ]
    }
   ],
   "source": [
    "import ska_k8s_config_exporter\n",
    "\n",
    "print(\"This is a test\")"
   ]
  },
  {
   "cell_type": "code",
   "execution_count": null,
   "metadata": {},
   "outputs": [],
   "source": [
    "ska_k8s_config_exporter."
   ]
  }
 ],
 "metadata": {
  "kernelspec": {
   "display_name": "Python 3 (ipykernel)",
   "language": "python",
   "name": "python3"
  },
  "language_info": {
   "codemirror_mode": {
    "name": "ipython",
    "version": 3
   },
   "file_extension": ".py",
   "mimetype": "text/x-python",
   "name": "python",
   "nbconvert_exporter": "python",
   "pygments_lexer": "ipython3",
   "version": "3.10.12"
  }
 },
 "nbformat": 4,
 "nbformat_minor": 4
}
