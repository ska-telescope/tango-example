{
 "cells": [
  {
   "attachments": {},
   "cell_type": "markdown",
   "metadata": {},
   "source": [
    "## To create a basic Jupyter notebook, follow the steps below:\n",
    "\n",
    "* Open a new Jupyter notebook in your preferred environment.\n",
    "* In the first cell, add a Markdown cell to provide a brief description of the notebook's purpose.\n",
    "* In the second cell, import any necessary libraries or packages using the appropriate import statements.\n",
    "* Add any additional cells as needed for data preparation, analysis, or visualization.\n",
    "* Save your notebook and run it to ensure that all cells execute without errors.\n",
    "* Here's an example of what your notebook could look like:"
   ]
  },
  {
   "cell_type": "code",
   "execution_count": null,
   "metadata": {},
   "outputs": [],
   "source": [
    "# Notebook Title\n",
    "\n",
    "# This notebook provides an example of how to use nbmake for testing Jupyter notebooks.\n",
    "\n",
    "# Imports\n",
    "\n",
    "# Import any necessary libraries or packages here.\n",
    "\n",
    "import ska_k8s_config_exporter\n",
    "\n",
    "print(\"This is a test\")"
   ]
  }
 ],
 "metadata": {
  "kernelspec": {
   "display_name": "Python 3 (ipykernel)",
   "language": "python",
   "name": "python3"
  },
  "orig_nbformat": 4
 },
 "nbformat": 4,
 "nbformat_minor": 2
}
