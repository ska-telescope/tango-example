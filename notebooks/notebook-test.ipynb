{
 "cells": [
  {
   "attachments": {},
   "cell_type": "markdown",
   "metadata": {},
   "source": [
    "## To create a basic Jupyter notebook, follow the steps below:\n",
    "\n",
    "* Open a new Jupyter notebook in your preferred environment.\n",
    "* In the first cell, add a Markdown cell to provide a brief description of the notebook's purpose.\n",
    "* In the second cell, import any necessary libraries or packages using the appropriate import statements.\n",
    "* Add any additional cells as needed for data preparation, analysis, or visualization.\n",
    "* Save your notebook and run it to ensure that all cells execute without errors.\n",
    "* Here's an example of what your notebook could look like:"
   ]
  },
  {
   "cell_type": "code",
   "execution_count": null,
   "metadata": {
    "vscode": {
     "languageId": "python"
    }
   },
   "outputs": [],
   "source": [
    "# Notebook Title\n",
    "\n",
    "# This notebook provides an example of how to use nbmake for testing Jupyter notebooks.\n",
    "\n",
    "# Imports\n",
    "\n",
    "# Import any necessary libraries or packages here.\n",
    "\n",
    "import numpy as np\n",
    "\n",
    "# Create a NumPy array\n",
    "arr = np.array([1, 2, 3, 4, 5])\n",
    "\n",
    "# Print the array\n",
    "print(arr)\n",
    "\n",
    "# Print the shape of the array\n",
    "print(arr.shape)\n",
    "\n",
    "# Print the type of the array\n",
    "print(type(arr))\n",
    "\n",
    "# Perform basic operations on the array\n",
    "print(arr + 1)  # add 1 to each element\n",
    "print(arr * 2)  # multiply each element by 2\n",
    "print(np.sqrt(arr))  # take the square root of each element"
   ]
  }
 ],
 "metadata": {
  "kernelspec": {
   "display_name": "Python 3 (ipykernel)",
   "language": "python",
   "name": "python3"
  },
  "orig_nbformat": 4
 },
 "nbformat": 4,
 "nbformat_minor": 2
}
