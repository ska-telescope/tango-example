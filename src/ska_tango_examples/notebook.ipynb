{
  "cells": [
    {
      "cell_type": "raw",
      "id": "0144a27c-8069-4336-b8fd-7cd395384055",
      "metadata": {},
      "source": [
        "# ska-tango-examples jupyter notebook\n",
        "\n",
        "Before starting the notebook, please run the job `deploy-dev-environment` of the `deploy` stage in the gitlab pipeline. That will create an new development environment with namespace `ci-dev-ska-tango-examples`.\n"
      ]
    },
    {
      "cell_type": "code",
      "execution_count": null,
      "id": "8b17ab52",
      "metadata": {},
      "outputs": [],
      "source": [
        "import os\n",
        "\n",
        "KUBE_NAMESPACE = \"ska-tango-examples\"\n",
        "\n",
        "os.environ[\"TANGO_HOST\"] = f\"tango-databaseds.{KUBE_NAMESPACE}.svc.cluster.local:10000\""
      ]
    },
    {
      "cell_type": "code",
      "execution_count": null,
      "id": "fe55883a-6887-43dd-9498-5333a51799e2",
      "metadata": {
        "trusted": true
      },
      "outputs": [],
      "source": [
        "from tango import DeviceProxy, EventType\n",
        "from ska_tango_examples.tabata.RunningState import RunningState\n",
        "\n",
        "proxy = DeviceProxy('test/tabata/1')\n",
        "prepareCounter = DeviceProxy('test/counter/prepare')\n",
        "workCounter = DeviceProxy('test/counter/work')\n",
        "restCounter = DeviceProxy('test/counter/rest')\n",
        "cyclesCounter = DeviceProxy('test/counter/cycles')\n",
        "tabatasCounter = DeviceProxy('test/counter/tabatas')"
      ]
    },
    {
      "cell_type": "code",
      "execution_count": null,
      "id": "2cf09fe2",
      "metadata": {},
      "outputs": [],
      "source": [
        "# setup tabata device\n",
        "proxy.prepare = 20\n",
        "proxy.work = 40\n",
        "proxy.rest = 20\n",
        "proxy.cycles = 8\n",
        "proxy.tabatas = 1\n",
        "proxy.ResetCounters()"
      ]
    },
    {
      "cell_type": "code",
      "execution_count": null,
      "id": "fdd9234a",
      "metadata": {},
      "outputs": [],
      "source": [
        "from IPython.display import clear_output\n",
        "\n",
        "def handle_event(evt):\n",
        "    print(\"Event arrived from\", evt.device.dev_name(), \"value:\", evt.device.value)"
      ]
    },
    {
      "cell_type": "code",
      "execution_count": null,
      "id": "58b2f046",
      "metadata": {},
      "outputs": [],
      "source": [
        "prepareCounter.subscribe_event(\"value\",EventType.CHANGE_EVENT, handle_event)\n",
        "workCounter.subscribe_event(\"value\",EventType.CHANGE_EVENT, handle_event)\n",
        "restCounter.subscribe_event(\"value\",EventType.CHANGE_EVENT, handle_event)\n",
        "cyclesCounter.subscribe_event(\"value\",EventType.CHANGE_EVENT, handle_event)\n",
        "tabatasCounter.subscribe_event(\"value\",EventType.CHANGE_EVENT, handle_event)"
      ]
    },
    {
      "cell_type": "code",
      "execution_count": null,
      "id": "c7d5b51f",
      "metadata": {},
      "outputs": [],
      "source": [
        "proxy.Start()"
      ]
    },
    {
      "cell_type": "code",
      "execution_count": null,
      "id": "9b4b08a6",
      "metadata": {},
      "outputs": [],
      "source": [
        "proxy.state(), proxy.running_state, f\"PREPARE: {prepareCounter.value}\", f\"WORK: {workCounter.value}\", f\"REST: {restCounter.value}\", f\"CYCLE: {cyclesCounter.value}\", f\"TABATA: {tabatasCounter.value}\""
      ]
    },
    {
      "cell_type": "code",
      "execution_count": null,
      "id": "d8777cd4",
      "metadata": {},
      "outputs": [],
      "source": [
        "proxy.Stop()"
      ]
    }
  ],
  "metadata": {
    "kernelspec": {
      "display_name": "Python 3.8.10 ('ska-tango-examples-Wsi0kqW7-py3.8')",
      "language": "python",
      "name": "python3"
    },
    "language_info": {
      "codemirror_mode": {
        "name": "ipython",
        "version": 3
      },
      "file_extension": ".py",
      "mimetype": "text/x-python",
      "name": "python",
      "nbconvert_exporter": "python",
      "pygments_lexer": "ipython3",
      "version": "3.8.10"
    },
    "vscode": {
      "interpreter": {
        "hash": "9eeea5aabe130fbe75f3df83a8deea5e3832e563aa3ceb023e09d4cd6e0dfeb6"
      }
    }
  },
  "nbformat": 4,
  "nbformat_minor": 5
}
