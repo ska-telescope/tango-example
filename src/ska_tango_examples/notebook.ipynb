{
  "cells": [
    {
      "cell_type": "raw",
      "id": "0144a27c-8069-4336-b8fd-7cd395384055",
      "metadata": {},
      "source": [
        "# ska-tango-examples jupyter notebook\n",
        "\n",
        "Before starting the notebook, please run the job `deploy-dev-environment` of the `deploy` stage in the gitlab pipeline. That will create an new development environment with namespace `ci-dev-ska-tango-examples`.\n"
      ]
    },
    {
      "cell_type": "code",
      "execution_count": null,
      "id": "8b17ab52",
      "metadata": {},
      "outputs": [],
      "source": [
        "import os\n",
        "\n",
        "os.environ[\"TANGO_HOST\"] = \"tango-databaseds.ci-dev-ska-tango-examples.svc.cluster.local:10000\""
      ]
    },
    {
      "cell_type": "code",
      "execution_count": 1,
      "id": "fe55883a-6887-43dd-9498-5333a51799e2",
      "metadata": {
        "trusted": true
      },
      "outputs": [
        {
          "ename": "ConnectionFailed",
          "evalue": "DevFailed[\nDevError[\n    desc = TRANSIENT CORBA system exception: TRANSIENT_ConnectFailed\n  origin = Connection::connect\n  reason = API_CorbaException\nseverity = ERR]\n\nDevError[\n    desc = Failed to connect to database on host legion0.localdomain with port 10000\n  origin = Connection::connect\n  reason = API_CantConnectToDatabase\nseverity = ERR]\n]",
          "output_type": "error",
          "traceback": [
            "\u001b[0;31m---------------------------------------------------------------------------\u001b[0m",
            "\u001b[0;31mConnectionFailed\u001b[0m                          Traceback (most recent call last)",
            "\u001b[0;32m/tmp/ipykernel_44210/497839591.py\u001b[0m in \u001b[0;36m<cell line: 3>\u001b[0;34m()\u001b[0m\n\u001b[1;32m      1\u001b[0m \u001b[0;32mfrom\u001b[0m \u001b[0mtango\u001b[0m \u001b[0;32mimport\u001b[0m \u001b[0mDeviceProxy\u001b[0m\u001b[0;34m,\u001b[0m \u001b[0mDevState\u001b[0m\u001b[0;34m\u001b[0m\u001b[0;34m\u001b[0m\u001b[0m\n\u001b[1;32m      2\u001b[0m \u001b[0;34m\u001b[0m\u001b[0m\n\u001b[0;32m----> 3\u001b[0;31m \u001b[0mproxy\u001b[0m \u001b[0;34m=\u001b[0m \u001b[0mDeviceProxy\u001b[0m\u001b[0;34m(\u001b[0m\u001b[0;34m'test/tabata/1'\u001b[0m\u001b[0;34m)\u001b[0m\u001b[0;34m\u001b[0m\u001b[0;34m\u001b[0m\u001b[0m\n\u001b[0m\u001b[1;32m      4\u001b[0m \u001b[0mprepareCounter\u001b[0m \u001b[0;34m=\u001b[0m \u001b[0mDeviceProxy\u001b[0m\u001b[0;34m(\u001b[0m\u001b[0;34m'test/counter/prepare'\u001b[0m\u001b[0;34m)\u001b[0m\u001b[0;34m\u001b[0m\u001b[0;34m\u001b[0m\u001b[0m\n\u001b[1;32m      5\u001b[0m \u001b[0mworkCounter\u001b[0m \u001b[0;34m=\u001b[0m \u001b[0mDeviceProxy\u001b[0m\u001b[0;34m(\u001b[0m\u001b[0;34m'test/counter/work'\u001b[0m\u001b[0;34m)\u001b[0m\u001b[0;34m\u001b[0m\u001b[0;34m\u001b[0m\u001b[0m\n",
            "\u001b[0;32m~/.cache/pypoetry/virtualenvs/ska-tango-examples-Wsi0kqW7-py3.8/lib/python3.8/site-packages/tango/device_proxy.py\u001b[0m in \u001b[0;36m__DeviceProxy__init__\u001b[0;34m(self, *args, **kwargs)\u001b[0m\n\u001b[1;32m    205\u001b[0m     \u001b[0mself\u001b[0m\u001b[0;34m.\u001b[0m\u001b[0m_executors\u001b[0m\u001b[0;34m[\u001b[0m\u001b[0mGreenMode\u001b[0m\u001b[0;34m.\u001b[0m\u001b[0mGevent\u001b[0m\u001b[0;34m]\u001b[0m \u001b[0;34m=\u001b[0m \u001b[0mkwargs\u001b[0m\u001b[0;34m.\u001b[0m\u001b[0mpop\u001b[0m\u001b[0;34m(\u001b[0m\u001b[0;34m'threadpool'\u001b[0m\u001b[0;34m,\u001b[0m \u001b[0;32mNone\u001b[0m\u001b[0;34m)\u001b[0m\u001b[0;34m\u001b[0m\u001b[0;34m\u001b[0m\u001b[0m\n\u001b[1;32m    206\u001b[0m     \u001b[0mself\u001b[0m\u001b[0;34m.\u001b[0m\u001b[0m_executors\u001b[0m\u001b[0;34m[\u001b[0m\u001b[0mGreenMode\u001b[0m\u001b[0;34m.\u001b[0m\u001b[0mAsyncio\u001b[0m\u001b[0;34m]\u001b[0m \u001b[0;34m=\u001b[0m \u001b[0mkwargs\u001b[0m\u001b[0;34m.\u001b[0m\u001b[0mpop\u001b[0m\u001b[0;34m(\u001b[0m\u001b[0;34m'asyncio_executor'\u001b[0m\u001b[0;34m,\u001b[0m \u001b[0;32mNone\u001b[0m\u001b[0;34m)\u001b[0m\u001b[0;34m\u001b[0m\u001b[0;34m\u001b[0m\u001b[0m\n\u001b[0;32m--> 207\u001b[0;31m     \u001b[0;32mreturn\u001b[0m \u001b[0mDeviceProxy\u001b[0m\u001b[0;34m.\u001b[0m\u001b[0m__init_orig__\u001b[0m\u001b[0;34m(\u001b[0m\u001b[0mself\u001b[0m\u001b[0;34m,\u001b[0m \u001b[0;34m*\u001b[0m\u001b[0margs\u001b[0m\u001b[0;34m,\u001b[0m \u001b[0;34m**\u001b[0m\u001b[0mkwargs\u001b[0m\u001b[0;34m)\u001b[0m\u001b[0;34m\u001b[0m\u001b[0;34m\u001b[0m\u001b[0m\n\u001b[0m\u001b[1;32m    208\u001b[0m \u001b[0;34m\u001b[0m\u001b[0m\n\u001b[1;32m    209\u001b[0m \u001b[0;34m\u001b[0m\u001b[0m\n",
            "\u001b[0;31mConnectionFailed\u001b[0m: DevFailed[\nDevError[\n    desc = TRANSIENT CORBA system exception: TRANSIENT_ConnectFailed\n  origin = Connection::connect\n  reason = API_CorbaException\nseverity = ERR]\n\nDevError[\n    desc = Failed to connect to database on host legion0.localdomain with port 10000\n  origin = Connection::connect\n  reason = API_CantConnectToDatabase\nseverity = ERR]\n]"
          ]
        }
      ],
      "source": [
        "from tango import DeviceProxy, DevState\n",
        "\n",
        "proxy = DeviceProxy('test/tabata/1')\n",
        "prepareCounter = DeviceProxy('test/counter/prepare')\n",
        "workCounter = DeviceProxy('test/counter/work')\n",
        "restCounter = DeviceProxy('test/counter/rest')\n",
        "cyclesCounter = DeviceProxy('test/counter/cycles')\n",
        "tabatasCounter = DeviceProxy('test/counter/tabatas')"
      ]
    },
    {
      "cell_type": "code",
      "execution_count": null,
      "id": "2cf09fe2",
      "metadata": {},
      "outputs": [],
      "source": [
        "# setup tabata device\n",
        "proxy.prepare = 5\n",
        "proxy.work = 5\n",
        "proxy.rest = 5\n",
        "proxy.cycles = 1\n",
        "proxy.tabatas = 1\n",
        "proxy.ResetCounters()"
      ]
    },
    {
      "cell_type": "code",
      "execution_count": null,
      "id": "58b2f046",
      "metadata": {},
      "outputs": [],
      "source": [
        "proxy.Start()"
      ]
    },
    {
      "cell_type": "code",
      "execution_count": null,
      "id": "9b4b08a6",
      "metadata": {},
      "outputs": [],
      "source": [
        "proxy.state()\n",
        "proxy.running_state"
      ]
    },
    {
      "cell_type": "code",
      "execution_count": null,
      "id": "d8777cd4",
      "metadata": {},
      "outputs": [],
      "source": [
        "proxy.Stop()"
      ]
    }
  ],
  "metadata": {
    "kernelspec": {
      "display_name": "Python 3.8.10 ('ska-tango-examples-Wsi0kqW7-py3.8')",
      "language": "python",
      "name": "python3"
    },
    "language_info": {
      "codemirror_mode": {
        "name": "ipython",
        "version": 3
      },
      "file_extension": ".py",
      "mimetype": "text/x-python",
      "name": "python",
      "nbconvert_exporter": "python",
      "pygments_lexer": "ipython3",
      "version": "3.8.10"
    },
    "vscode": {
      "interpreter": {
        "hash": "ded860e24a58d3df5404a2531446e58f00218b412052e8fae26f49d9c1d5c247"
      }
    }
  },
  "nbformat": 4,
  "nbformat_minor": 5
}
