{
  "cells": [
    {
      "cell_type": "raw",
      "id": "0144a27c-8069-4336-b8fd-7cd395384055",
      "metadata": {},
      "source": [
        "# ska-tango-examples jupyter notebook\n",
        "\n",
        "Before starting the notebook, please run the job `deploy-dev-environment` of the `deploy` stage in the gitlab pipeline. That will create an new development environment with namespace `ci-dev-ska-tango-examples`.\n"
      ]
    },
    {
      "cell_type": "code",
      "execution_count": 2,
      "id": "8b17ab52",
      "metadata": {},
      "outputs": [],
      "source": [
        "import os\n",
        "\n",
        "os.environ[\"TANGO_HOST\"] = \"tango-databaseds.ci-dev-ska-tango-examples.svc.cluster.local:10000\""
      ]
    },
    {
      "cell_type": "code",
      "execution_count": 3,
      "id": "fe55883a-6887-43dd-9498-5333a51799e2",
      "metadata": {
        "trusted": true
      },
      "outputs": [],
      "source": [
        "from tango import DeviceProxy, DevState\n",
        "\n",
        "proxy = DeviceProxy('test/tabata/1')\n",
        "prepareCounter = DeviceProxy('test/counter/prepare')\n",
        "workCounter = DeviceProxy('test/counter/work')\n",
        "restCounter = DeviceProxy('test/counter/rest')\n",
        "cyclesCounter = DeviceProxy('test/counter/cycles')\n",
        "tabatasCounter = DeviceProxy('test/counter/tabatas')"
      ]
    },
    {
      "cell_type": "code",
      "execution_count": 46,
      "id": "2cf09fe2",
      "metadata": {},
      "outputs": [],
      "source": [
        "# setup tabata device\n",
        "proxy.prepare = 5\n",
        "proxy.work = 5\n",
        "proxy.rest = 5\n",
        "proxy.cycles = 1\n",
        "proxy.tabatas = 1\n",
        "proxy.ResetCounters()"
      ]
    },
    {
      "cell_type": "code",
      "execution_count": 36,
      "id": "58b2f046",
      "metadata": {},
      "outputs": [],
      "source": [
        "proxy.Start()"
      ]
    },
    {
      "cell_type": "code",
      "execution_count": 47,
      "id": "9b4b08a6",
      "metadata": {},
      "outputs": [
        {
          "data": {
            "text/plain": [
              "(tango._tango.DevState.OFF, <running_state.PREPARE: 0>)"
            ]
          },
          "execution_count": 47,
          "metadata": {},
          "output_type": "execute_result"
        }
      ],
      "source": [
        "dev_state = proxy.state()\n",
        "dev_state, proxy.running_state"
      ]
    },
    {
      "cell_type": "code",
      "execution_count": 43,
      "id": "d8777cd4",
      "metadata": {},
      "outputs": [],
      "source": [
        "proxy.Stop()"
      ]
    }
  ],
  "metadata": {
    "kernelspec": {
      "display_name": "Python 3.8.10 ('ska-tango-examples-Wsi0kqW7-py3.8')",
      "language": "python",
      "name": "python3"
    },
    "language_info": {
      "codemirror_mode": {
        "name": "ipython",
        "version": 3
      },
      "file_extension": ".py",
      "mimetype": "text/x-python",
      "name": "python",
      "nbconvert_exporter": "python",
      "pygments_lexer": "ipython3",
      "version": "3.8.10"
    },
    "vscode": {
      "interpreter": {
        "hash": "ded860e24a58d3df5404a2531446e58f00218b412052e8fae26f49d9c1d5c247"
      }
    }
  },
  "nbformat": 4,
  "nbformat_minor": 5
}
