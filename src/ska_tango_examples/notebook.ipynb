{
  "cells": [
    {
      "cell_type": "raw",
      "id": "0144a27c-8069-4336-b8fd-7cd395384055",
      "metadata": {},
      "source": [
        "# ska-tango-examples jupyter notebook\n",
        "\n",
        "Before starting the notebook, please run the job `deploy-dev-environment` of the `deploy` stage in the gitlab pipeline. That will create an new development environment with namespace `ci-dev-ska-tango-examples`.\n"
      ]
    },
    {
      "cell_type": "code",
      "execution_count": 1,
      "id": "8b17ab52",
      "metadata": {},
      "outputs": [],
      "source": [
        "import os\n",
        "\n",
        "KUBE_NAMESPACE = \"ska-tango-examples\"\n",
        "\n",
        "os.environ[\"TANGO_HOST\"] = f\"tango-databaseds.{KUBE_NAMESPACE}.svc.cluster.local:10000\""
      ]
    },
    {
      "cell_type": "code",
      "execution_count": 2,
      "id": "fe55883a-6887-43dd-9498-5333a51799e2",
      "metadata": {
        "trusted": true
      },
      "outputs": [],
      "source": [
        "from tango import DeviceProxy, EventType\n",
        "from ska_tango_examples.tabata.RunningState import RunningState\n",
        "\n",
        "proxy = DeviceProxy('test/tabata/1')\n",
        "prepareCounter = DeviceProxy('test/counter/prepare')\n",
        "workCounter = DeviceProxy('test/counter/work')\n",
        "restCounter = DeviceProxy('test/counter/rest')\n",
        "cyclesCounter = DeviceProxy('test/counter/cycles')\n",
        "tabatasCounter = DeviceProxy('test/counter/tabatas')"
      ]
    },
    {
      "cell_type": "code",
      "execution_count": 3,
      "id": "2cf09fe2",
      "metadata": {},
      "outputs": [],
      "source": [
        "# setup tabata device\n",
        "proxy.prepare = 20\n",
        "proxy.work = 40\n",
        "proxy.rest = 20\n",
        "proxy.cycles = 8\n",
        "proxy.tabatas = 1\n",
        "proxy.ResetCounters()"
      ]
    },
    {
      "cell_type": "code",
      "execution_count": 16,
      "id": "fdd9234a",
      "metadata": {},
      "outputs": [],
      "source": [
        "from IPython.display import clear_output\n",
        "\n",
        "def handle_event(evt):\n",
        "    print(\"Event arrived from \", evt.device.dev_name())\n"
      ]
    },
    {
      "cell_type": "code",
      "execution_count": 17,
      "id": "58b2f046",
      "metadata": {},
      "outputs": [
        {
          "name": "stdout",
          "output_type": "stream",
          "text": [
            "ON running_state.PREPARE WORK: 5\n",
            "Event arrived from  test/counter/work\n"
          ]
        }
      ],
      "source": [
        "prepareCounter.subscribe_event(\"value\",EventType.CHANGE_EVENT, handle_event)\n",
        "workCounter.subscribe_event(\"value\",EventType.CHANGE_EVENT, handle_event)\n",
        "restCounter.subscribe_event(\"value\",EventType.CHANGE_EVENT, handle_event)\n",
        "cyclesCounter.subscribe_event(\"value\",EventType.CHANGE_EVENT, handle_event)\n",
        "tabatasCounter.subscribe_event(\"value\",EventType.CHANGE_EVENT, handle_event)"
      ]
    },
    {
      "cell_type": "code",
      "execution_count": null,
      "id": "c7d5b51f",
      "metadata": {},
      "outputs": [],
      "source": [
        "proxy.Start()"
      ]
    },
    {
      "cell_type": "code",
      "execution_count": 21,
      "id": "9b4b08a6",
      "metadata": {},
      "outputs": [
        {
          "name": "stdout",
          "output_type": "stream",
          "text": [
            "ON running_state.REST WORK: 5\n",
            "Event arrived from  test/counter/work\n"
          ]
        }
      ],
      "source": [
        "proxy.state(), proxy.running_state, f\"PREPARE: {prepareCounter.value}\", f\"WORK: {workCounter.value}\", f\"REST: {restCounter.value}\", f\"CYCLE: {cyclesCounter.value}\", f\"TABATA: {tabatasCounter.value}\""
      ]
    },
    {
      "cell_type": "code",
      "execution_count": 9,
      "id": "d8777cd4",
      "metadata": {},
      "outputs": [
        {
          "ename": "DevFailed",
          "evalue": "DevFailed[\nDevError[\n    desc = Command Stop not allowed when the device is in OFF state\n  origin = DeviceClass::command_handler\n  reason = API_CommandNotAllowed\nseverity = ERR]\n\nDevError[\n    desc = Failed to execute command_inout on device test/tabata/1, command Stop\n  origin = Connection::command_inout()\n  reason = API_CommandFailed\nseverity = ERR]\n]",
          "output_type": "error",
          "traceback": [
            "\u001b[0;31m---------------------------------------------------------------------------\u001b[0m",
            "\u001b[0;31mDevFailed\u001b[0m                                 Traceback (most recent call last)",
            "\u001b[0;32m/tmp/ipykernel_347577/379585454.py\u001b[0m in \u001b[0;36m<cell line: 1>\u001b[0;34m()\u001b[0m\n\u001b[0;32m----> 1\u001b[0;31m \u001b[0mproxy\u001b[0m\u001b[0;34m.\u001b[0m\u001b[0mStop\u001b[0m\u001b[0;34m(\u001b[0m\u001b[0;34m)\u001b[0m\u001b[0;34m\u001b[0m\u001b[0;34m\u001b[0m\u001b[0m\n\u001b[0m",
            "\u001b[0;32m~/.cache/pypoetry/virtualenvs/ska-tango-examples-Wsi0kqW7-py3.8/lib/python3.8/site-packages/tango/device_proxy.py\u001b[0m in \u001b[0;36mf\u001b[0;34m(*args, **kwds)\u001b[0m\n\u001b[1;32m    273\u001b[0m \u001b[0;34m\u001b[0m\u001b[0m\n\u001b[1;32m    274\u001b[0m     \u001b[0;32mdef\u001b[0m \u001b[0mf\u001b[0m\u001b[0;34m(\u001b[0m\u001b[0;34m*\u001b[0m\u001b[0margs\u001b[0m\u001b[0;34m,\u001b[0m \u001b[0;34m**\u001b[0m\u001b[0mkwds\u001b[0m\u001b[0;34m)\u001b[0m\u001b[0;34m:\u001b[0m\u001b[0;34m\u001b[0m\u001b[0;34m\u001b[0m\u001b[0m\n\u001b[0;32m--> 275\u001b[0;31m         \u001b[0;32mreturn\u001b[0m \u001b[0mdp\u001b[0m\u001b[0;34m.\u001b[0m\u001b[0mcommand_inout\u001b[0m\u001b[0;34m(\u001b[0m\u001b[0mname\u001b[0m\u001b[0;34m,\u001b[0m \u001b[0;34m*\u001b[0m\u001b[0margs\u001b[0m\u001b[0;34m,\u001b[0m \u001b[0;34m**\u001b[0m\u001b[0mkwds\u001b[0m\u001b[0;34m)\u001b[0m\u001b[0;34m\u001b[0m\u001b[0;34m\u001b[0m\u001b[0m\n\u001b[0m\u001b[1;32m    276\u001b[0m \u001b[0;34m\u001b[0m\u001b[0m\n\u001b[1;32m    277\u001b[0m     \u001b[0mf\u001b[0m\u001b[0;34m.\u001b[0m\u001b[0m__doc__\u001b[0m \u001b[0;34m=\u001b[0m \u001b[0mdoc\u001b[0m\u001b[0;34m\u001b[0m\u001b[0;34m\u001b[0m\u001b[0m\n",
            "\u001b[0;32m~/.cache/pypoetry/virtualenvs/ska-tango-examples-Wsi0kqW7-py3.8/lib/python3.8/site-packages/tango/green.py\u001b[0m in \u001b[0;36mgreener\u001b[0;34m(obj, *args, **kwargs)\u001b[0m\n\u001b[1;32m    193\u001b[0m             \u001b[0mgreen_mode\u001b[0m \u001b[0;34m=\u001b[0m \u001b[0maccess\u001b[0m\u001b[0;34m(\u001b[0m\u001b[0;34m'green_mode'\u001b[0m\u001b[0;34m,\u001b[0m \u001b[0;32mNone\u001b[0m\u001b[0;34m)\u001b[0m\u001b[0;34m\u001b[0m\u001b[0;34m\u001b[0m\u001b[0m\n\u001b[1;32m    194\u001b[0m             \u001b[0mexecutor\u001b[0m \u001b[0;34m=\u001b[0m \u001b[0mget_object_executor\u001b[0m\u001b[0;34m(\u001b[0m\u001b[0mobj\u001b[0m\u001b[0;34m,\u001b[0m \u001b[0mgreen_mode\u001b[0m\u001b[0;34m)\u001b[0m\u001b[0;34m\u001b[0m\u001b[0;34m\u001b[0m\u001b[0m\n\u001b[0;32m--> 195\u001b[0;31m             \u001b[0;32mreturn\u001b[0m \u001b[0mexecutor\u001b[0m\u001b[0;34m.\u001b[0m\u001b[0mrun\u001b[0m\u001b[0;34m(\u001b[0m\u001b[0mfn\u001b[0m\u001b[0;34m,\u001b[0m \u001b[0margs\u001b[0m\u001b[0;34m,\u001b[0m \u001b[0mkwargs\u001b[0m\u001b[0;34m,\u001b[0m \u001b[0mwait\u001b[0m\u001b[0;34m=\u001b[0m\u001b[0mwait\u001b[0m\u001b[0;34m,\u001b[0m \u001b[0mtimeout\u001b[0m\u001b[0;34m=\u001b[0m\u001b[0mtimeout\u001b[0m\u001b[0;34m)\u001b[0m\u001b[0;34m\u001b[0m\u001b[0;34m\u001b[0m\u001b[0m\n\u001b[0m\u001b[1;32m    196\u001b[0m \u001b[0;34m\u001b[0m\u001b[0m\n\u001b[1;32m    197\u001b[0m         \u001b[0;32mreturn\u001b[0m \u001b[0mgreener\u001b[0m\u001b[0;34m\u001b[0m\u001b[0;34m\u001b[0m\u001b[0m\n",
            "\u001b[0;32m~/.cache/pypoetry/virtualenvs/ska-tango-examples-Wsi0kqW7-py3.8/lib/python3.8/site-packages/tango/green.py\u001b[0m in \u001b[0;36mrun\u001b[0;34m(self, fn, args, kwargs, wait, timeout)\u001b[0m\n\u001b[1;32m    107\u001b[0m         \u001b[0;31m# Sychronous (no delegation)\u001b[0m\u001b[0;34m\u001b[0m\u001b[0;34m\u001b[0m\u001b[0;34m\u001b[0m\u001b[0m\n\u001b[1;32m    108\u001b[0m         \u001b[0;32mif\u001b[0m \u001b[0;32mnot\u001b[0m \u001b[0mself\u001b[0m\u001b[0;34m.\u001b[0m\u001b[0masynchronous\u001b[0m \u001b[0;32mor\u001b[0m \u001b[0;32mnot\u001b[0m \u001b[0mself\u001b[0m\u001b[0;34m.\u001b[0m\u001b[0min_executor_context\u001b[0m\u001b[0;34m(\u001b[0m\u001b[0;34m)\u001b[0m\u001b[0;34m:\u001b[0m\u001b[0;34m\u001b[0m\u001b[0;34m\u001b[0m\u001b[0m\n\u001b[0;32m--> 109\u001b[0;31m             \u001b[0;32mreturn\u001b[0m \u001b[0mfn\u001b[0m\u001b[0;34m(\u001b[0m\u001b[0;34m*\u001b[0m\u001b[0margs\u001b[0m\u001b[0;34m,\u001b[0m \u001b[0;34m**\u001b[0m\u001b[0mkwargs\u001b[0m\u001b[0;34m)\u001b[0m\u001b[0;34m\u001b[0m\u001b[0;34m\u001b[0m\u001b[0m\n\u001b[0m\u001b[1;32m    110\u001b[0m         \u001b[0;31m# Asynchronous delegation\u001b[0m\u001b[0;34m\u001b[0m\u001b[0;34m\u001b[0m\u001b[0;34m\u001b[0m\u001b[0m\n\u001b[1;32m    111\u001b[0m         \u001b[0maccessor\u001b[0m \u001b[0;34m=\u001b[0m \u001b[0mself\u001b[0m\u001b[0;34m.\u001b[0m\u001b[0mdelegate\u001b[0m\u001b[0;34m(\u001b[0m\u001b[0mfn\u001b[0m\u001b[0;34m,\u001b[0m \u001b[0;34m*\u001b[0m\u001b[0margs\u001b[0m\u001b[0;34m,\u001b[0m \u001b[0;34m**\u001b[0m\u001b[0mkwargs\u001b[0m\u001b[0;34m)\u001b[0m\u001b[0;34m\u001b[0m\u001b[0;34m\u001b[0m\u001b[0m\n",
            "\u001b[0;32m~/.cache/pypoetry/virtualenvs/ska-tango-examples-Wsi0kqW7-py3.8/lib/python3.8/site-packages/tango/connection.py\u001b[0m in \u001b[0;36m__Connection__command_inout\u001b[0;34m(self, name, *args, **kwds)\u001b[0m\n\u001b[1;32m    106\u001b[0m         \u001b[0;34m*\u001b[0m\u001b[0mtimeout\u001b[0m\u001b[0;34m*\u001b[0m \u001b[0mparameter\u001b[0m\u001b[0;34m.\u001b[0m\u001b[0;34m\u001b[0m\u001b[0;34m\u001b[0m\u001b[0m\n\u001b[1;32m    107\u001b[0m     \"\"\"\n\u001b[0;32m--> 108\u001b[0;31m     \u001b[0mr\u001b[0m \u001b[0;34m=\u001b[0m \u001b[0mConnection\u001b[0m\u001b[0;34m.\u001b[0m\u001b[0mcommand_inout_raw\u001b[0m\u001b[0;34m(\u001b[0m\u001b[0mself\u001b[0m\u001b[0;34m,\u001b[0m \u001b[0mname\u001b[0m\u001b[0;34m,\u001b[0m \u001b[0;34m*\u001b[0m\u001b[0margs\u001b[0m\u001b[0;34m,\u001b[0m \u001b[0;34m**\u001b[0m\u001b[0mkwds\u001b[0m\u001b[0;34m)\u001b[0m\u001b[0;34m\u001b[0m\u001b[0;34m\u001b[0m\u001b[0m\n\u001b[0m\u001b[1;32m    109\u001b[0m     \u001b[0;32mif\u001b[0m \u001b[0misinstance\u001b[0m\u001b[0;34m(\u001b[0m\u001b[0mr\u001b[0m\u001b[0;34m,\u001b[0m \u001b[0mDeviceData\u001b[0m\u001b[0;34m)\u001b[0m\u001b[0;34m:\u001b[0m\u001b[0;34m\u001b[0m\u001b[0;34m\u001b[0m\u001b[0m\n\u001b[1;32m    110\u001b[0m         \u001b[0;32mtry\u001b[0m\u001b[0;34m:\u001b[0m\u001b[0;34m\u001b[0m\u001b[0;34m\u001b[0m\u001b[0m\n",
            "\u001b[0;32m~/.cache/pypoetry/virtualenvs/ska-tango-examples-Wsi0kqW7-py3.8/lib/python3.8/site-packages/tango/connection.py\u001b[0m in \u001b[0;36m__Connection__command_inout_raw\u001b[0;34m(self, cmd_name, cmd_param)\u001b[0m\n\u001b[1;32m    135\u001b[0m     \"\"\"\n\u001b[1;32m    136\u001b[0m     \u001b[0mparam\u001b[0m \u001b[0;34m=\u001b[0m \u001b[0m__get_command_inout_param\u001b[0m\u001b[0;34m(\u001b[0m\u001b[0mself\u001b[0m\u001b[0;34m,\u001b[0m \u001b[0mcmd_name\u001b[0m\u001b[0;34m,\u001b[0m \u001b[0mcmd_param\u001b[0m\u001b[0;34m)\u001b[0m\u001b[0;34m\u001b[0m\u001b[0;34m\u001b[0m\u001b[0m\n\u001b[0;32m--> 137\u001b[0;31m     \u001b[0;32mreturn\u001b[0m \u001b[0mself\u001b[0m\u001b[0;34m.\u001b[0m\u001b[0m__command_inout\u001b[0m\u001b[0;34m(\u001b[0m\u001b[0mcmd_name\u001b[0m\u001b[0;34m,\u001b[0m \u001b[0mparam\u001b[0m\u001b[0;34m)\u001b[0m\u001b[0;34m\u001b[0m\u001b[0;34m\u001b[0m\u001b[0m\n\u001b[0m\u001b[1;32m    138\u001b[0m \u001b[0;34m\u001b[0m\u001b[0m\n\u001b[1;32m    139\u001b[0m \u001b[0;34m\u001b[0m\u001b[0m\n",
            "\u001b[0;31mDevFailed\u001b[0m: DevFailed[\nDevError[\n    desc = Command Stop not allowed when the device is in OFF state\n  origin = DeviceClass::command_handler\n  reason = API_CommandNotAllowed\nseverity = ERR]\n\nDevError[\n    desc = Failed to execute command_inout on device test/tabata/1, command Stop\n  origin = Connection::command_inout()\n  reason = API_CommandFailed\nseverity = ERR]\n]"
          ]
        }
      ],
      "source": [
        "proxy.Stop()"
      ]
    }
  ],
  "metadata": {
    "kernelspec": {
      "display_name": "Python 3.8.10 ('ska-tango-examples-Wsi0kqW7-py3.8')",
      "language": "python",
      "name": "python3"
    },
    "language_info": {
      "codemirror_mode": {
        "name": "ipython",
        "version": 3
      },
      "file_extension": ".py",
      "mimetype": "text/x-python",
      "name": "python",
      "nbconvert_exporter": "python",
      "pygments_lexer": "ipython3",
      "version": "3.8.10"
    },
    "vscode": {
      "interpreter": {
        "hash": "9eeea5aabe130fbe75f3df83a8deea5e3832e563aa3ceb023e09d4cd6e0dfeb6"
      }
    }
  },
  "nbformat": 4,
  "nbformat_minor": 5
}
